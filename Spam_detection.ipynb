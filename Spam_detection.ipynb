{
 "cells": [
  {
   "cell_type": "code",
   "execution_count": 1,
   "id": "b92612b8-7c1b-45e8-b512-89649c630f93",
   "metadata": {
    "tags": []
   },
   "outputs": [],
   "source": [
    "import numpy as np\n",
    "import pandas as pd\n",
    "import matplotlib.pyplot as plt\n",
    "import seaborn as sns\n",
    "from sklearn.model_selection import train_test_split\n",
    "from sklearn.metrics import confusion_matrix, ConfusionMatrixDisplay, classification_report"
   ]
  },
  {
   "cell_type": "code",
   "execution_count": 2,
   "id": "c9584cde-0c47-4926-9855-66a9a8c6dfe9",
   "metadata": {
    "tags": []
   },
   "outputs": [
    {
     "data": {
      "text/html": [
       "<div>\n",
       "<style scoped>\n",
       "    .dataframe tbody tr th:only-of-type {\n",
       "        vertical-align: middle;\n",
       "    }\n",
       "\n",
       "    .dataframe tbody tr th {\n",
       "        vertical-align: top;\n",
       "    }\n",
       "\n",
       "    .dataframe thead th {\n",
       "        text-align: right;\n",
       "    }\n",
       "</style>\n",
       "<table border=\"1\" class=\"dataframe\">\n",
       "  <thead>\n",
       "    <tr style=\"text-align: right;\">\n",
       "      <th></th>\n",
       "      <th>text</th>\n",
       "      <th>spam</th>\n",
       "    </tr>\n",
       "  </thead>\n",
       "  <tbody>\n",
       "    <tr>\n",
       "      <th>0</th>\n",
       "      <td>Subject: naturally irresistible your corporate...</td>\n",
       "      <td>1</td>\n",
       "    </tr>\n",
       "    <tr>\n",
       "      <th>1</th>\n",
       "      <td>Subject: the stock trading gunslinger  fanny i...</td>\n",
       "      <td>1</td>\n",
       "    </tr>\n",
       "    <tr>\n",
       "      <th>2</th>\n",
       "      <td>Subject: unbelievable new homes made easy  im ...</td>\n",
       "      <td>1</td>\n",
       "    </tr>\n",
       "    <tr>\n",
       "      <th>3</th>\n",
       "      <td>Subject: 4 color printing special  request add...</td>\n",
       "      <td>1</td>\n",
       "    </tr>\n",
       "    <tr>\n",
       "      <th>4</th>\n",
       "      <td>Subject: do not have money , get software cds ...</td>\n",
       "      <td>1</td>\n",
       "    </tr>\n",
       "  </tbody>\n",
       "</table>\n",
       "</div>"
      ],
      "text/plain": [
       "                                                text  spam\n",
       "0  Subject: naturally irresistible your corporate...     1\n",
       "1  Subject: the stock trading gunslinger  fanny i...     1\n",
       "2  Subject: unbelievable new homes made easy  im ...     1\n",
       "3  Subject: 4 color printing special  request add...     1\n",
       "4  Subject: do not have money , get software cds ...     1"
      ]
     },
     "execution_count": 2,
     "metadata": {},
     "output_type": "execute_result"
    }
   ],
   "source": [
    "df = pd.read_csv('emails.csv')\n",
    "df.head()"
   ]
  },
  {
   "cell_type": "code",
   "execution_count": 3,
   "id": "5b6e0e7e-2b6d-448d-9677-150b8c5cf4d3",
   "metadata": {
    "tags": []
   },
   "outputs": [
    {
     "data": {
      "text/plain": [
       "[Text(0, 0, '4360'), Text(0, 0, '1368')]"
      ]
     },
     "execution_count": 3,
     "metadata": {},
     "output_type": "execute_result"
    },
    {
     "data": {
      "image/png": "[encoded data removed]",
      "text/plain": [
       "<Figure size 1000x600 with 1 Axes>"
      ]
     },
     "metadata": {},
     "output_type": "display_data"
    }
   ],
   "source": [
    "fig = plt.subplots(figsize=(10, 6))\n",
    "ax = sns.countplot(x='spam', data=df)\n",
    "ax.set_title('Number of spam and ham emails')\n",
    "ax.set_xticklabels(['ham', 'spam'])\n",
    "ax.bar_label(ax.containers[0])"
   ]
  },
  {
   "cell_type": "code",
   "execution_count": 4,
   "id": "1abdb70e-ff13-4b89-9ea9-5f8f40c71b8a",
   "metadata": {
    "tags": []
   },
   "outputs": [
    {
     "data": {
      "text/html": [
       "<div>\n",
       "<style scoped>\n",
       "    .dataframe tbody tr th:only-of-type {\n",
       "        vertical-align: middle;\n",
       "    }\n",
       "\n",
       "    .dataframe tbody tr th {\n",
       "        vertical-align: top;\n",
       "    }\n",
       "\n",
       "    .dataframe thead th {\n",
       "        text-align: right;\n",
       "    }\n",
       "</style>\n",
       "<table border=\"1\" class=\"dataframe\">\n",
       "  <thead>\n",
       "    <tr style=\"text-align: right;\">\n",
       "      <th></th>\n",
       "      <th>text</th>\n",
       "      <th>spam</th>\n",
       "      <th>words</th>\n",
       "    </tr>\n",
       "  </thead>\n",
       "  <tbody>\n",
       "    <tr>\n",
       "      <th>0</th>\n",
       "      <td>Subject: naturally irresistible your corporate...</td>\n",
       "      <td>1</td>\n",
       "      <td>[days, website, %, recollect, organization, ha...</td>\n",
       "    </tr>\n",
       "    <tr>\n",
       "      <th>1</th>\n",
       "      <td>Subject: the stock trading gunslinger  fanny i...</td>\n",
       "      <td>1</td>\n",
       "      <td>[merrill, clockwork, sapling, bedtime, like, c...</td>\n",
       "    </tr>\n",
       "    <tr>\n",
       "      <th>2</th>\n",
       "      <td>Subject: unbelievable new homes made easy  im ...</td>\n",
       "      <td>1</td>\n",
       "      <td>[credit, ask, from, dorcas, complete, website,...</td>\n",
       "    </tr>\n",
       "    <tr>\n",
       "      <th>3</th>\n",
       "      <td>Subject: 4 color printing special  request add...</td>\n",
       "      <td>1</td>\n",
       "      <td>[goldengraphix, irwindale, ramsey, (, 5110, fa...</td>\n",
       "    </tr>\n",
       "    <tr>\n",
       "      <th>4</th>\n",
       "      <td>Subject: do not have money , get software cds ...</td>\n",
       "      <td>1</td>\n",
       "      <td>[me, from, best, ., along, great, with, get, i...</td>\n",
       "    </tr>\n",
       "  </tbody>\n",
       "</table>\n",
       "</div>"
      ],
      "text/plain": [
       "                                                text  spam  \\\n",
       "0  Subject: naturally irresistible your corporate...     1   \n",
       "1  Subject: the stock trading gunslinger  fanny i...     1   \n",
       "2  Subject: unbelievable new homes made easy  im ...     1   \n",
       "3  Subject: 4 color printing special  request add...     1   \n",
       "4  Subject: do not have money , get software cds ...     1   \n",
       "\n",
       "                                               words  \n",
       "0  [days, website, %, recollect, organization, ha...  \n",
       "1  [merrill, clockwork, sapling, bedtime, like, c...  \n",
       "2  [credit, ask, from, dorcas, complete, website,...  \n",
       "3  [goldengraphix, irwindale, ramsey, (, 5110, fa...  \n",
       "4  [me, from, best, ., along, great, with, get, i...  "
      ]
     },
     "execution_count": 4,
     "metadata": {},
     "output_type": "execute_result"
    }
   ],
   "source": [
    "df['words'] = df['text'].apply(lambda text: list(set(text.lower().split())))\n",
    "df.head()"
   ]
  },
  {
   "cell_type": "code",
   "execution_count": 5,
   "id": "66063c35-90bc-4ff9-9798-cbdc9af2d96c",
   "metadata": {
    "tags": []
   },
   "outputs": [
    {
     "data": {
      "text/html": [
       "<div>\n",
       "<style scoped>\n",
       "    .dataframe tbody tr th:only-of-type {\n",
       "        vertical-align: middle;\n",
       "    }\n",
       "\n",
       "    .dataframe tbody tr th {\n",
       "        vertical-align: top;\n",
       "    }\n",
       "\n",
       "    .dataframe thead th {\n",
       "        text-align: right;\n",
       "    }\n",
       "</style>\n",
       "<table border=\"1\" class=\"dataframe\">\n",
       "  <thead>\n",
       "    <tr style=\"text-align: right;\">\n",
       "      <th></th>\n",
       "      <th>text</th>\n",
       "      <th>spam</th>\n",
       "      <th>words</th>\n",
       "      <th>spam_worded</th>\n",
       "    </tr>\n",
       "  </thead>\n",
       "  <tbody>\n",
       "    <tr>\n",
       "      <th>0</th>\n",
       "      <td>Subject: naturally irresistible your corporate...</td>\n",
       "      <td>1</td>\n",
       "      <td>[days, website, %, recollect, organization, ha...</td>\n",
       "      <td>spam</td>\n",
       "    </tr>\n",
       "    <tr>\n",
       "      <th>1</th>\n",
       "      <td>Subject: the stock trading gunslinger  fanny i...</td>\n",
       "      <td>1</td>\n",
       "      <td>[merrill, clockwork, sapling, bedtime, like, c...</td>\n",
       "      <td>spam</td>\n",
       "    </tr>\n",
       "    <tr>\n",
       "      <th>2</th>\n",
       "      <td>Subject: unbelievable new homes made easy  im ...</td>\n",
       "      <td>1</td>\n",
       "      <td>[credit, ask, from, dorcas, complete, website,...</td>\n",
       "      <td>spam</td>\n",
       "    </tr>\n",
       "    <tr>\n",
       "      <th>3</th>\n",
       "      <td>Subject: 4 color printing special  request add...</td>\n",
       "      <td>1</td>\n",
       "      <td>[goldengraphix, irwindale, ramsey, (, 5110, fa...</td>\n",
       "      <td>spam</td>\n",
       "    </tr>\n",
       "    <tr>\n",
       "      <th>4</th>\n",
       "      <td>Subject: do not have money , get software cds ...</td>\n",
       "      <td>1</td>\n",
       "      <td>[me, from, best, ., along, great, with, get, i...</td>\n",
       "      <td>spam</td>\n",
       "    </tr>\n",
       "  </tbody>\n",
       "</table>\n",
       "</div>"
      ],
      "text/plain": [
       "                                                text  spam  \\\n",
       "0  Subject: naturally irresistible your corporate...     1   \n",
       "1  Subject: the stock trading gunslinger  fanny i...     1   \n",
       "2  Subject: unbelievable new homes made easy  im ...     1   \n",
       "3  Subject: 4 color printing special  request add...     1   \n",
       "4  Subject: do not have money , get software cds ...     1   \n",
       "\n",
       "                                               words spam_worded  \n",
       "0  [days, website, %, recollect, organization, ha...        spam  \n",
       "1  [merrill, clockwork, sapling, bedtime, like, c...        spam  \n",
       "2  [credit, ask, from, dorcas, complete, website,...        spam  \n",
       "3  [goldengraphix, irwindale, ramsey, (, 5110, fa...        spam  \n",
       "4  [me, from, best, ., along, great, with, get, i...        spam  "
      ]
     },
     "execution_count": 5,
     "metadata": {},
     "output_type": "execute_result"
    }
   ],
   "source": [
    "df['spam_worded'] = df['spam'].apply(lambda x: 'spam' if x == 1 else 'ham')\n",
    "df.head()"
   ]
  },
  {
   "cell_type": "code",
   "execution_count": 6,
   "id": "e36188b2-3e87-4347-9ec2-a1c19952683e",
   "metadata": {
    "tags": []
   },
   "outputs": [
    {
     "name": "stdout",
     "output_type": "stream",
     "text": [
      "RangeIndex(start=0, stop=5728, step=1)\n"
     ]
    }
   ],
   "source": [
    "print(df.index)"
   ]
  },
  {
   "cell_type": "code",
   "execution_count": 7,
   "id": "ec041913-71e2-49b8-bebe-89814188f934",
   "metadata": {
    "tags": []
   },
   "outputs": [
    {
     "data": {
      "text/plain": [
       "{'days': {'spam': 143, 'ham': 342},\n",
       " 'website': {'spam': 204, 'ham': 135},\n",
       " '%': {'spam': 336, 'ham': 181},\n",
       " 'recollect': {'spam': 26, 'ham': 1},\n",
       " 'organization': {'spam': 42, 'ham': 140}}"
      ]
     },
     "execution_count": 7,
     "metadata": {},
     "output_type": "execute_result"
    }
   ],
   "source": [
    "word_frequency = {} #prazan set\n",
    "\n",
    "for ind in df.index:\n",
    "    for word in df['words'][ind]:\n",
    "        if word not in word_frequency:\n",
    "            #word_frequency[word] = {'spam': 0, 'ham': 0}\n",
    "            word_frequency[word] = {'spam': 1, 'ham': 1} # Pocinjemo sa ovim vrijednostima da bi izbjegli dijeljenje sa nulom kasnije.\n",
    "        word_frequency[word][df['spam_worded'][ind]] +=1\n",
    "        \n",
    "dict(list(word_frequency.items())[:5])\n"
   ]
  },
  {
   "cell_type": "code",
   "execution_count": 8,
   "id": "71ff41f4-4750-459f-8d28-b959a964a174",
   "metadata": {
    "tags": []
   },
   "outputs": [
    {
     "name": "stdout",
     "output_type": "stream",
     "text": [
      "0.2388268156424581\n",
      "0.7611731843575419\n",
      "1368\n",
      "4360\n"
     ]
    }
   ],
   "source": [
    "Pspam = df[df['spam'] == 1].shape[0] / df.shape[0]\n",
    "Pham = df[df['spam'] == 0].shape[0] / df.shape[0]\n",
    "NbSpam = df[df['spam'] == 1].shape[0]\n",
    "NbHam = df[df['spam'] == 0].shape[0]\n",
    "print(Pspam)\n",
    "print(Pham)\n",
    "print(NbSpam)\n",
    "print(NbHam)"
   ]
  },
  {
   "cell_type": "code",
   "execution_count": 11,
   "id": "e597190a-c770-493a-a90e-43e18368e1eb",
   "metadata": {
    "tags": []
   },
   "outputs": [],
   "source": [
    "def predict(email):\n",
    "    words = set(email.lower().split())\n",
    "    PxSpam = 1.0\n",
    "    PxHam = 1.0\n",
    "    for word in words:\n",
    "        if word in word_frequency:\n",
    "            ##P(x|Spam) = Product of propabilities P(x_i|Spam)\n",
    "            PxSpam *= word_frequency[word]['spam'] / NbSpam\n",
    "            #print(word_frequency[word]['spam'])\n",
    "            #print(f\"frequency of {word} in spam = {word_frequency[word]['spam']}/{NbSpam}\")\n",
    "            #print(word_frequency[word]['spam']/NbSpam)\n",
    "            #print(f'PxSpam = {PxSpam}')\n",
    "            \n",
    "#           ##P(x|Ham) = Product of probabilities P(x_i|Ham)\n",
    "            PxHam *= word_frequency[word]['ham'] / NbHam\n",
    "            #print(word_frequency[word]['ham'])\n",
    "            #print(f\"frequency of {word} in ham = {word_frequency[word]['ham']}/{NbHam}\")\n",
    "            #print(word_frequency[word]['ham']/NbHam)\n",
    "            #print(f'PxHam = {PxHam}')\n",
    "            \n",
    "    ##P(x) = P(Spam) * P(x_i|Spam) + P(Ham) * P(x_i|Ham)\n",
    "    Px = Pspam * PxSpam + Pham * PxHam\n",
    "    #print(f'Px = {Pspam} * {PxSpam} + {Pham} * {PxHam}')\n",
    "    \n",
    "    \n",
    "    ##Finaly, P(Spam|x) = P(Spam) * P(x|Spam) / P(x)\n",
    "    P_Spam_x = Pspam * PxSpam / Px\n",
    "    print(f'P_Spam_x={P_Spam_x}')\n",
    "    return print(f'The email \\\"{email}\\\" has a {round(P_Spam_x*100, 3)}% chance of being spam.')"
   ]
  },
  {
   "cell_type": "code",
   "execution_count": 12,
   "id": "6c98b425-3e00-433d-960b-6585b0cbe95a",
   "metadata": {
    "tags": []
   },
   "outputs": [
    {
     "name": "stdout",
     "output_type": "stream",
     "text": [
      "P_Spam_x=0.9931009834744942\n",
      "The email \"money but when you buy a mansion you can go to the lottery when i go to the beach with my friends we have a lot of fun\" has a 99.31% chance of being spam.\n"
     ]
    }
   ],
   "source": [
    "predict('money but when you buy a mansion you can go to the lottery when i go to the beach with my friends we have a lot of fun')"
   ]
  },
  {
   "cell_type": "code",
   "execution_count": 14,
   "id": "36ccf21d-322e-4830-b9ab-7341b5a06d40",
   "metadata": {
    "tags": []
   },
   "outputs": [
    {
     "name": "stdout",
     "output_type": "stream",
     "text": [
      "P_Spam_x=0.20907811922523797\n",
      "The email \"Hi, Just texting to see how its going. Hope everything is fine. All the best\" has a 20.908% chance of being spam.\n"
     ]
    }
   ],
   "source": [
    "predict('Hi, Just texting to see how its going. Hope everything is fine. All the best')"
   ]
  },
  {
   "cell_type": "code",
   "execution_count": 136,
   "id": "94667499-f035-43b5-85ad-297817aeeba9",
   "metadata": {},
   "outputs": [],
   "source": [
    "#testiranje"
   ]
  },
  {
   "cell_type": "code",
   "execution_count": 15,
   "id": "9a09ed38-03c8-4c98-a1b0-b8a3d52ae2c8",
   "metadata": {
    "tags": []
   },
   "outputs": [],
   "source": [
    "X = df.drop(['spam'], axis=1)\n",
    "y = df['spam']\n",
    "X_train, X_test, y_train, y_test = train_test_split(X, y, test_size = 0.2, random_state = 41) #20% for test, 80% for training"
   ]
  },
  {
   "cell_type": "code",
   "execution_count": 16,
   "id": "71fa1089-fcf5-43fb-815c-e08cd4d27055",
   "metadata": {
    "tags": []
   },
   "outputs": [],
   "source": [
    "train_word_frequency = {}\n",
    "for ind in X_train.index:\n",
    "    for word in X_train['words'][ind]:\n",
    "        if word not in train_word_frequency:\n",
    "            train_word_frequency[word] = {'spam': 1, 'ham': 1}\n",
    "        train_word_frequency[word][X_train['spam_worded'][ind]] +=1\n",
    "        \n",
    "\n",
    "train_Pspam = y_train.value_counts()[1] / y_train.shape[0]\n",
    "train_Pham = y_train.value_counts()[0] / y_train.shape[0]\n",
    "train_NbSpam = y_train.value_counts()[1] \n",
    "train_NbHam = y_train.value_counts()[0]\n",
    "\n",
    "def predict_2(words):\n",
    "    PxSpam = 1.0\n",
    "    PxHam = 1.0\n",
    "    for word in words:\n",
    "        if word in train_word_frequency:\n",
    "            \n",
    "            PxSpam *= train_word_frequency[word]['spam'] / train_NbSpam\n",
    "            \n",
    "            PxHam *= train_word_frequency[word]['ham'] / train_NbHam\n",
    "            \n",
    "    #P(x) = P(Spam) * P(x_i|Spam) + P(Ham) * P(x_i|Ham)\n",
    "    Px = train_Pspam * PxSpam + train_Pham * PxHam    \n",
    "    \n",
    "    #Finaly, P(Spam|x) = P(Spam) * P(x|Spam) / P(x)\n",
    "    P_Spam_x = train_Pspam * PxSpam / Px\n",
    "    if P_Spam_x > 0.5:\n",
    "        return 1\n",
    "    else:\n",
    "        return 0"
   ]
  },
  {
   "cell_type": "code",
   "execution_count": 17,
   "id": "7e1479ca-8212-40b8-a68d-9216382854da",
   "metadata": {
    "tags": []
   },
   "outputs": [],
   "source": [
    "y_pred = X_test['words'].apply(predict_2)"
   ]
  },
  {
   "cell_type": "code",
   "execution_count": 18,
   "id": "c61df85a-99b9-4a80-b4bb-9afddbf4702f",
   "metadata": {
    "tags": []
   },
   "outputs": [
    {
     "data": {
      "image/png": "[encoded data removed]",
      "text/plain": [
       "<Figure size 640x480 with 2 Axes>"
      ]
     },
     "metadata": {},
     "output_type": "display_data"
    },
    {
     "name": "stdout",
     "output_type": "stream",
     "text": [
      "              precision    recall  f1-score   support\n",
      "\n",
      "     ham (0)       0.97      1.00      0.98       881\n",
      "    spam (1)       0.99      0.88      0.93       265\n",
      "\n",
      "    accuracy                           0.97      1146\n",
      "   macro avg       0.98      0.94      0.96      1146\n",
      "weighted avg       0.97      0.97      0.97      1146\n",
      "\n"
     ]
    }
   ],
   "source": [
    "cm = confusion_matrix(y_test, y_pred)\n",
    "cmplot = ConfusionMatrixDisplay(confusion_matrix=cm, display_labels = ['ham (0)', 'spam (1)'])\n",
    "cmplot.plot()\n",
    "plt.show()\n",
    "\n",
    "print(classification_report(y_test, y_pred, target_names = ['ham (0)', 'spam (1)']))"
   ]
  },
  {
   "cell_type": "code",
   "execution_count": null,
   "id": "05ec3a48-60a2-49ab-af26-cf2b43dfff94",
   "metadata": {},
   "outputs": [],
   "source": []
  }
 ],
 "metadata": {
  "kernelspec": {
   "display_name": "Python 3 (ipykernel)",
   "language": "python",
   "name": "python3"
  },
  "language_info": {
   "codemirror_mode": {
    "name": "ipython",
    "version": 3
   },
   "file_extension": ".py",
   "mimetype": "text/x-python",
   "name": "python",
   "nbconvert_exporter": "python",
   "pygments_lexer": "ipython3",
   "version": "3.11.5"
  }
 },
 "nbformat": 4,
 "nbformat_minor": 5
}
